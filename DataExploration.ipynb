{
 "cells": [
  {
   "cell_type": "code",
   "execution_count": null,
   "id": "6e4c1a0f",
   "metadata": {},
   "outputs": [],
   "source": []
  },
  {
   "cell_type": "code",
   "execution_count": null,
   "id": "c3ff43c1",
   "metadata": {},
   "outputs": [],
   "source": []
  },
  {
   "cell_type": "code",
   "execution_count": null,
   "id": "5562403c",
   "metadata": {},
   "outputs": [],
   "source": []
  },
  {
   "cell_type": "code",
   "execution_count": 1,
   "id": "b8a2c2f9",
   "metadata": {},
   "outputs": [],
   "source": [
    "import pandas as pd\n",
    "import tensorflow_hub as hub\n",
    "import h5py"
   ]
  },
  {
   "cell_type": "code",
   "execution_count": null,
   "id": "a24973ce",
   "metadata": {},
   "outputs": [],
   "source": []
  },
  {
   "cell_type": "code",
   "execution_count": 2,
   "id": "a513cbf8",
   "metadata": {},
   "outputs": [
    {
     "data": {
      "text/html": [
       "<div>\n",
       "<style scoped>\n",
       "    .dataframe tbody tr th:only-of-type {\n",
       "        vertical-align: middle;\n",
       "    }\n",
       "\n",
       "    .dataframe tbody tr th {\n",
       "        vertical-align: top;\n",
       "    }\n",
       "\n",
       "    .dataframe thead th {\n",
       "        text-align: right;\n",
       "    }\n",
       "</style>\n",
       "<table border=\"1\" class=\"dataframe\">\n",
       "  <thead>\n",
       "    <tr style=\"text-align: right;\">\n",
       "      <th></th>\n",
       "      <th>abstracts</th>\n",
       "      <th>Physics</th>\n",
       "      <th>Mathematics</th>\n",
       "      <th>Computer Science</th>\n",
       "      <th>Quantitative Biology</th>\n",
       "      <th>Quantitative Finance</th>\n",
       "      <th>Statistics</th>\n",
       "      <th>Electrical Engineering and Systems Science</th>\n",
       "      <th>Economics</th>\n",
       "    </tr>\n",
       "  </thead>\n",
       "  <tbody>\n",
       "    <tr>\n",
       "      <th>0</th>\n",
       "      <td>We describe a new algorithm, the pebble game ...</td>\n",
       "      <td>0</td>\n",
       "      <td>1</td>\n",
       "      <td>1</td>\n",
       "      <td>0</td>\n",
       "      <td>0</td>\n",
       "      <td>0</td>\n",
       "      <td>0</td>\n",
       "      <td>0</td>\n",
       "    </tr>\n",
       "    <tr>\n",
       "      <th>1</th>\n",
       "      <td>The evolution of Earth-Moon system is describ...</td>\n",
       "      <td>1</td>\n",
       "      <td>0</td>\n",
       "      <td>0</td>\n",
       "      <td>0</td>\n",
       "      <td>0</td>\n",
       "      <td>0</td>\n",
       "      <td>0</td>\n",
       "      <td>0</td>\n",
       "    </tr>\n",
       "    <tr>\n",
       "      <th>2</th>\n",
       "      <td>We show that a determinant of Stirling cycle ...</td>\n",
       "      <td>0</td>\n",
       "      <td>1</td>\n",
       "      <td>0</td>\n",
       "      <td>0</td>\n",
       "      <td>0</td>\n",
       "      <td>0</td>\n",
       "      <td>0</td>\n",
       "      <td>0</td>\n",
       "    </tr>\n",
       "    <tr>\n",
       "      <th>3</th>\n",
       "      <td>In this paper we show how to compute the  nor...</td>\n",
       "      <td>0</td>\n",
       "      <td>1</td>\n",
       "      <td>0</td>\n",
       "      <td>0</td>\n",
       "      <td>0</td>\n",
       "      <td>0</td>\n",
       "      <td>0</td>\n",
       "      <td>0</td>\n",
       "    </tr>\n",
       "    <tr>\n",
       "      <th>4</th>\n",
       "      <td>We study the two-particle wave function of pa...</td>\n",
       "      <td>1</td>\n",
       "      <td>0</td>\n",
       "      <td>0</td>\n",
       "      <td>0</td>\n",
       "      <td>0</td>\n",
       "      <td>0</td>\n",
       "      <td>0</td>\n",
       "      <td>0</td>\n",
       "    </tr>\n",
       "    <tr>\n",
       "      <th>...</th>\n",
       "      <td>...</td>\n",
       "      <td>...</td>\n",
       "      <td>...</td>\n",
       "      <td>...</td>\n",
       "      <td>...</td>\n",
       "      <td>...</td>\n",
       "      <td>...</td>\n",
       "      <td>...</td>\n",
       "      <td>...</td>\n",
       "    </tr>\n",
       "    <tr>\n",
       "      <th>1565955</th>\n",
       "      <td>We report on measurements of the angular depe...</td>\n",
       "      <td>1</td>\n",
       "      <td>0</td>\n",
       "      <td>0</td>\n",
       "      <td>0</td>\n",
       "      <td>0</td>\n",
       "      <td>0</td>\n",
       "      <td>0</td>\n",
       "      <td>0</td>\n",
       "    </tr>\n",
       "    <tr>\n",
       "      <th>1565956</th>\n",
       "      <td>The non-linear microwave surface impedance of...</td>\n",
       "      <td>1</td>\n",
       "      <td>0</td>\n",
       "      <td>0</td>\n",
       "      <td>0</td>\n",
       "      <td>0</td>\n",
       "      <td>0</td>\n",
       "      <td>0</td>\n",
       "      <td>0</td>\n",
       "    </tr>\n",
       "    <tr>\n",
       "      <th>1565957</th>\n",
       "      <td>The vortex contribution to the dc field (H) d...</td>\n",
       "      <td>1</td>\n",
       "      <td>0</td>\n",
       "      <td>0</td>\n",
       "      <td>0</td>\n",
       "      <td>0</td>\n",
       "      <td>0</td>\n",
       "      <td>0</td>\n",
       "      <td>0</td>\n",
       "    </tr>\n",
       "    <tr>\n",
       "      <th>1565958</th>\n",
       "      <td>We show that the density of states in an anis...</td>\n",
       "      <td>1</td>\n",
       "      <td>0</td>\n",
       "      <td>0</td>\n",
       "      <td>0</td>\n",
       "      <td>0</td>\n",
       "      <td>0</td>\n",
       "      <td>0</td>\n",
       "      <td>0</td>\n",
       "    </tr>\n",
       "    <tr>\n",
       "      <th>1565959</th>\n",
       "      <td>The Ginzburg Landau theory for d_{x^2-y^2}-wa...</td>\n",
       "      <td>1</td>\n",
       "      <td>0</td>\n",
       "      <td>0</td>\n",
       "      <td>0</td>\n",
       "      <td>0</td>\n",
       "      <td>0</td>\n",
       "      <td>0</td>\n",
       "      <td>0</td>\n",
       "    </tr>\n",
       "  </tbody>\n",
       "</table>\n",
       "<p>1565960 rows × 9 columns</p>\n",
       "</div>"
      ],
      "text/plain": [
       "                                                 abstracts  Physics  \\\n",
       "0         We describe a new algorithm, the pebble game ...        0   \n",
       "1         The evolution of Earth-Moon system is describ...        1   \n",
       "2         We show that a determinant of Stirling cycle ...        0   \n",
       "3         In this paper we show how to compute the  nor...        0   \n",
       "4         We study the two-particle wave function of pa...        1   \n",
       "...                                                    ...      ...   \n",
       "1565955   We report on measurements of the angular depe...        1   \n",
       "1565956   The non-linear microwave surface impedance of...        1   \n",
       "1565957   The vortex contribution to the dc field (H) d...        1   \n",
       "1565958   We show that the density of states in an anis...        1   \n",
       "1565959   The Ginzburg Landau theory for d_{x^2-y^2}-wa...        1   \n",
       "\n",
       "         Mathematics  Computer Science  Quantitative Biology  \\\n",
       "0                  1                 1                     0   \n",
       "1                  0                 0                     0   \n",
       "2                  1                 0                     0   \n",
       "3                  1                 0                     0   \n",
       "4                  0                 0                     0   \n",
       "...              ...               ...                   ...   \n",
       "1565955            0                 0                     0   \n",
       "1565956            0                 0                     0   \n",
       "1565957            0                 0                     0   \n",
       "1565958            0                 0                     0   \n",
       "1565959            0                 0                     0   \n",
       "\n",
       "         Quantitative Finance  Statistics  \\\n",
       "0                           0           0   \n",
       "1                           0           0   \n",
       "2                           0           0   \n",
       "3                           0           0   \n",
       "4                           0           0   \n",
       "...                       ...         ...   \n",
       "1565955                     0           0   \n",
       "1565956                     0           0   \n",
       "1565957                     0           0   \n",
       "1565958                     0           0   \n",
       "1565959                     0           0   \n",
       "\n",
       "         Electrical Engineering and Systems Science  Economics  \n",
       "0                                                 0          0  \n",
       "1                                                 0          0  \n",
       "2                                                 0          0  \n",
       "3                                                 0          0  \n",
       "4                                                 0          0  \n",
       "...                                             ...        ...  \n",
       "1565955                                           0          0  \n",
       "1565956                                           0          0  \n",
       "1565957                                           0          0  \n",
       "1565958                                           0          0  \n",
       "1565959                                           0          0  \n",
       "\n",
       "[1565960 rows x 9 columns]"
      ]
     },
     "execution_count": 2,
     "metadata": {},
     "output_type": "execute_result"
    }
   ],
   "source": [
    "fname = \"/project/def-psavard/ladamek/ArxivFiles/arxiv-metadata-oai-snapshot.hdf\"\n",
    "data= pd.read_hdf(fname,key=\"abstract_data\")\n",
    "data[\"abstracts\"].astype('string')\n",
    "def clean_data(data):\n",
    "    data[\"abstracts\"] = data[\"abstracts\"].str.replace(\"\\n\", \" \")\n",
    "    data[\"abstracts\"] = data[\"abstracts\"].str.replace(r\"\\$[^\\$]*\\$\\-\", \" \", regex=True)\n",
    "    data[\"abstracts\"] = data[\"abstracts\"].str.replace(r\"\\$[^\\$]*\\$\", \" \", regex=True)\n",
    "    #data[\"abstracts\"] = data[\"abstracts\"].str.replace(r\"\\$[^\\$]*\\$\\\", \"\", regex=True)\n",
    "    #data[\"abstracts\"] = data[\"abstracts\"].str.replace(r\"\", \"\", regex=True)\n",
    "    data[\"abstracts\"] = data[\"abstracts\"].str.replace(r\"  \", \" \", regex=True)\n",
    "    return data\n",
    "data = clean_data(data)\n",
    "data"
   ]
  },
  {
   "cell_type": "code",
   "execution_count": 3,
   "id": "37d21154",
   "metadata": {},
   "outputs": [
    {
     "data": {
      "text/plain": [
       "\" The Ginzburg Landau theory for d_{x^2-y^2}-wave superconductors is constructed, by starting from the Gor'kov equation with including correction terms up to the next order of ln(T_c/T). Some of the non-local correction terms are found to break the cylindrical symmetry and lead to the fourfold symmetric core structure, reflecting the internal degree of freedom in the pair potential. Using this extended Ginzburg Landau theory, we investigate the fourfold symmetric structure of the pair potential, current and magnetic field around an isolated single vortex, and clarify concretely how the vortex core structure deviates from the cylindrical symmetry in the d_{x^2-y^2}-wave superconductors. \""
      ]
     },
     "execution_count": 3,
     "metadata": {},
     "output_type": "execute_result"
    }
   ],
   "source": [
    "data[\"abstracts\"].values[-1]"
   ]
  },
  {
   "cell_type": "code",
   "execution_count": null,
   "id": "060f63e0",
   "metadata": {},
   "outputs": [],
   "source": []
  },
  {
   "cell_type": "code",
   "execution_count": 4,
   "id": "8158232a",
   "metadata": {},
   "outputs": [
    {
     "name": "stderr",
     "output_type": "stream",
     "text": [
      "2022-03-25 16:42:35.783809: I tensorflow/stream_executor/platform/default/dso_loader.cc:44] Successfully opened dynamic library libcuda.so.1\n",
      "2022-03-25 16:42:37.583057: E tensorflow/stream_executor/cuda/cuda_driver.cc:313] failed call to cuInit: CUDA_ERROR_NO_DEVICE: no CUDA-capable device is detected\n",
      "2022-03-25 16:42:37.583238: I tensorflow/stream_executor/cuda/cuda_diagnostics.cc:156] kernel driver does not appear to be running on this host (gra827): /proc/driver/nvidia/version does not exist\n",
      "2022-03-25 16:42:37.585827: I tensorflow/core/platform/cpu_feature_guard.cc:143] Your CPU supports instructions that this TensorFlow binary was not compiled to use: AVX2 FMA\n",
      "2022-03-25 16:42:37.622217: I tensorflow/core/platform/profile_utils/cpu_utils.cc:102] CPU Frequency: 2095074999 Hz\n",
      "2022-03-25 16:42:37.622500: I tensorflow/compiler/xla/service/service.cc:168] XLA service 0x2b1bf4000b60 initialized for platform Host (this does not guarantee that XLA will be used). Devices:\n",
      "2022-03-25 16:42:37.622610: I tensorflow/compiler/xla/service/service.cc:176]   StreamExecutor device (0): Host, Default Version\n"
     ]
    }
   ],
   "source": [
    "embed = hub.load(\"../EmbeddingModels/universal-sentence-encoder-large_4\")"
   ]
  },
  {
   "cell_type": "markdown",
   "id": "6e3322a0",
   "metadata": {},
   "source": []
  },
  {
   "cell_type": "code",
   "execution_count": null,
   "id": "30fbdb74",
   "metadata": {},
   "outputs": [],
   "source": []
  },
  {
   "cell_type": "code",
   "execution_count": null,
   "id": "2125be77",
   "metadata": {},
   "outputs": [],
   "source": []
  },
  {
   "cell_type": "code",
   "execution_count": 5,
   "id": "705eab74",
   "metadata": {},
   "outputs": [
    {
     "data": {
      "text/plain": [
       "{'outputs': <tf.Tensor: shape=(100, 512), dtype=float32, numpy=\n",
       " array([[-0.04575021,  0.04444352, -0.08450314, ...,  0.08418953,\n",
       "          0.00879304, -0.01011373],\n",
       "        [ 0.01438187,  0.03046808,  0.06087292, ...,  0.07106357,\n",
       "          0.05783188, -0.01010555],\n",
       "        [ 0.0640423 ,  0.00550433, -0.02312865, ..., -0.02769209,\n",
       "         -0.04957713, -0.05708123],\n",
       "        ...,\n",
       "        [ 0.08821163,  0.0113154 , -0.08078555, ..., -0.00645896,\n",
       "          0.00966444,  0.0270819 ],\n",
       "        [ 0.06118148,  0.01833446, -0.01217962, ...,  0.07329561,\n",
       "          0.05255608, -0.01519746],\n",
       "        [-0.01301717,  0.05586116, -0.06447063, ...,  0.03969995,\n",
       "          0.01569352, -0.05422472]], dtype=float32)>}"
      ]
     },
     "execution_count": 5,
     "metadata": {},
     "output_type": "execute_result"
    }
   ],
   "source": [
    "subdata = data[0:100]\n",
    "subdata = {c:subdata[c].values for c in subdata}\n",
    "embeddings = embed(subdata[\"abstracts\"]) # process about 1000 at a time\n",
    "embeddings"
   ]
  },
  {
   "cell_type": "code",
   "execution_count": 6,
   "id": "d8a14664",
   "metadata": {},
   "outputs": [],
   "source": [
    "subdata[\"full_embeddings\"] = embeddings[\"outputs\"].numpy()"
   ]
  },
  {
   "cell_type": "code",
   "execution_count": 7,
   "id": "fb3fff02",
   "metadata": {},
   "outputs": [
    {
     "data": {
      "text/plain": [
       "array([[-0.04575021,  0.04444352, -0.08450314, ...,  0.08418953,\n",
       "         0.00879304, -0.01011373],\n",
       "       [ 0.01438187,  0.03046808,  0.06087292, ...,  0.07106357,\n",
       "         0.05783188, -0.01010555],\n",
       "       [ 0.0640423 ,  0.00550433, -0.02312865, ..., -0.02769209,\n",
       "        -0.04957713, -0.05708123],\n",
       "       ...,\n",
       "       [ 0.08821163,  0.0113154 , -0.08078555, ..., -0.00645896,\n",
       "         0.00966444,  0.0270819 ],\n",
       "       [ 0.06118148,  0.01833446, -0.01217962, ...,  0.07329561,\n",
       "         0.05255608, -0.01519746],\n",
       "       [-0.01301717,  0.05586116, -0.06447063, ...,  0.03969995,\n",
       "         0.01569352, -0.05422472]], dtype=float32)"
      ]
     },
     "execution_count": 7,
     "metadata": {},
     "output_type": "execute_result"
    }
   ],
   "source": [
    "subdata[\"full_embeddings\"]"
   ]
  },
  {
   "cell_type": "code",
   "execution_count": 8,
   "id": "dd23ddac",
   "metadata": {},
   "outputs": [
    {
     "data": {
      "text/plain": [
       "array([0, 1, 0, 0, 1, 1, 0, 0, 0, 0, 0, 0, 1, 0, 1, 1, 0, 1, 0, 1, 1, 0,\n",
       "       1, 0, 1, 1, 0, 0, 1, 1, 1, 1, 0, 0, 0, 0, 1, 0, 0, 1, 1, 1, 1, 0,\n",
       "       0, 0, 1, 0, 0, 1, 1, 0, 0, 0, 1, 0, 0, 1, 1, 0, 0, 1, 1, 1, 0, 1,\n",
       "       0, 1, 0, 0, 0, 0, 0, 0, 1, 0, 1, 0, 0, 0, 1, 1, 0, 0, 1, 1, 1, 1,\n",
       "       0, 0, 1, 1, 0, 0, 1, 1, 1, 1, 1, 1], dtype=uint8)"
      ]
     },
     "execution_count": 8,
     "metadata": {},
     "output_type": "execute_result"
    }
   ],
   "source": [
    "subdata[\"Physics\"]"
   ]
  },
  {
   "cell_type": "code",
   "execution_count": 9,
   "id": "14f4a8e4",
   "metadata": {},
   "outputs": [
    {
     "data": {
      "text/plain": [
       "array([1, 0, 0, 0, 0, 0, 0, 0, 0, 0, 0, 0, 0, 0, 0, 0, 0, 0, 0, 0, 0, 0,\n",
       "       0, 0, 0, 0, 0, 0, 0, 0, 0, 0, 1, 1, 0, 1, 0, 0, 0, 0, 0, 0, 0, 0,\n",
       "       1, 0, 0, 0, 0, 0, 0, 0, 0, 0, 0, 0, 0, 0, 0, 0, 0, 0, 0, 1, 0, 0,\n",
       "       0, 0, 0, 1, 0, 0, 0, 0, 0, 1, 0, 0, 0, 0, 0, 0, 0, 0, 0, 0, 0, 0,\n",
       "       0, 0, 0, 0, 0, 0, 0, 0, 0, 0, 0, 0], dtype=uint8)"
      ]
     },
     "execution_count": 9,
     "metadata": {},
     "output_type": "execute_result"
    }
   ],
   "source": [
    "subdata[\"Computer Science\"]"
   ]
  },
  {
   "cell_type": "code",
   "execution_count": 10,
   "id": "334b0071",
   "metadata": {},
   "outputs": [],
   "source": [
    "physics_entries = subdata[\"Physics\"] == 1\n",
    "computer_science_entries = subdata[\"Computer Science\"] == 1"
   ]
  },
  {
   "cell_type": "code",
   "execution_count": 11,
   "id": "5895392f",
   "metadata": {},
   "outputs": [],
   "source": [
    "def apply_selection(data,sel):\n",
    "    return {key:data[key][sel] for key in data}\n",
    "physics_data = apply_selection(subdata, physics_entries)\n",
    "computer_data = apply_selection(subdata, computer_science_entries)\n",
    "\n",
    "def calc_cosine(v1, v2):\n",
    "    dot = np.sum(v1* v2, axis=1)\n",
    "    mag1, mag2 = np.sum(v1**2, axis=1), np.sum(v2**2, axis=1)\n",
    "    return dot/(mag1*mag2)"
   ]
  },
  {
   "cell_type": "code",
   "execution_count": 12,
   "id": "d0bef6fe",
   "metadata": {},
   "outputs": [
    {
     "data": {
      "text/plain": [
       "0.44354877"
      ]
     },
     "execution_count": 12,
     "metadata": {},
     "output_type": "execute_result"
    }
   ],
   "source": [
    "import numpy as np\n",
    "np.average(calc_cosine(physics_data[\"full_embeddings\"][0:10], physics_data[\"full_embeddings\"][1:11]))"
   ]
  },
  {
   "cell_type": "code",
   "execution_count": 13,
   "id": "03c6f526",
   "metadata": {},
   "outputs": [
    {
     "data": {
      "text/plain": [
       "0.28206646"
      ]
     },
     "execution_count": 13,
     "metadata": {},
     "output_type": "execute_result"
    }
   ],
   "source": [
    "import numpy as np\n",
    "np.average(calc_cosine(computer_data[\"full_embeddings\"][0:8], physics_data[\"full_embeddings\"][0:8]))"
   ]
  },
  {
   "cell_type": "code",
   "execution_count": null,
   "id": "dc923daa",
   "metadata": {},
   "outputs": [],
   "source": []
  },
  {
   "cell_type": "code",
   "execution_count": null,
   "id": "3fe5d0af",
   "metadata": {},
   "outputs": [],
   "source": []
  }
 ],
 "metadata": {
  "kernelspec": {
   "display_name": "Python 3 (ipykernel)",
   "language": "python",
   "name": "python3"
  },
  "language_info": {
   "codemirror_mode": {
    "name": "ipython",
    "version": 3
   },
   "file_extension": ".py",
   "mimetype": "text/x-python",
   "name": "python",
   "nbconvert_exporter": "python",
   "pygments_lexer": "ipython3",
   "version": "3.8.10"
  }
 },
 "nbformat": 4,
 "nbformat_minor": 5
}
